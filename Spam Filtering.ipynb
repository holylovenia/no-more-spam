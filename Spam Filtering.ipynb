{
 "cells": [
  {
   "cell_type": "markdown",
   "metadata": {},
   "source": [
    "# Spam Filtering"
   ]
  },
  {
   "cell_type": "markdown",
   "metadata": {},
   "source": [
    "## Import libraries"
   ]
  },
  {
   "cell_type": "code",
   "execution_count": 1,
   "metadata": {},
   "outputs": [
    {
     "name": "stderr",
     "output_type": "stream",
     "text": [
      "/home/holy/anaconda3/envs/nlp_text/lib/python3.7/site-packages/sklearn/utils/__init__.py:4: DeprecationWarning: Using or importing the ABCs from 'collections' instead of from 'collections.abc' is deprecated, and in 3.8 it will stop working\n",
      "  from collections import Sequence\n",
      "/home/holy/anaconda3/envs/nlp_text/lib/python3.7/site-packages/sklearn/cross_validation.py:41: DeprecationWarning: This module was deprecated in version 0.18 in favor of the model_selection module into which all the refactored classes and functions are moved. Also note that the interface of the new CV iterators are different from that of this module. This module will be removed in 0.20.\n",
      "  \"This module will be removed in 0.20.\", DeprecationWarning)\n",
      "/home/holy/anaconda3/envs/nlp_text/lib/python3.7/site-packages/sklearn/ensemble/weight_boosting.py:29: DeprecationWarning: numpy.core.umath_tests is an internal NumPy module and should not be imported. It will be removed in a future NumPy release.\n",
      "  from numpy.core.umath_tests import inner1d\n"
     ]
    }
   ],
   "source": [
    "from nltk.corpus import stopwords\n",
    "from nltk.stem import WordNetLemmatizer\n",
    "from nltk.stem.porter import PorterStemmer\n",
    "from nltk.tokenize import RegexpTokenizer\n",
    "from random import randint\n",
    "from sklearn.cross_validation import cross_val_score\n",
    "from sklearn.ensemble import RandomForestClassifier\n",
    "from sklearn.feature_extraction.text import CountVectorizer, TfidfVectorizer\n",
    "from sklearn.metrics import accuracy_score, confusion_matrix, classification_report, f1_score\n",
    "from sklearn.model_selection import GridSearchCV, train_test_split\n",
    "from sklearn.naive_bayes import MultinomialNB\n",
    "from sklearn.neighbors import KNeighborsClassifier\n",
    "from sklearn.svm import SVC\n",
    "from sklearn.tree import DecisionTreeClassifier\n",
    "from sklearn.model_selection import cross_validate\n",
    "\n",
    "import nltk\n",
    "import numpy as np\n",
    "import pandas as pd\n",
    "import re"
   ]
  },
  {
   "cell_type": "markdown",
   "metadata": {},
   "source": [
    "## Pre-processing"
   ]
  },
  {
   "cell_type": "markdown",
   "metadata": {},
   "source": [
    "### Functions"
   ]
  },
  {
   "cell_type": "code",
   "execution_count": 2,
   "metadata": {},
   "outputs": [],
   "source": [
    "def remove_stop_words(contents):\n",
    "    stop_words = list(stopwords.words('english'))\n",
    "    for w in stop_words:\n",
    "        contents = contents.replace(w, '')\n",
    "        \n",
    "    return contents"
   ]
  },
  {
   "cell_type": "code",
   "execution_count": 3,
   "metadata": {},
   "outputs": [],
   "source": [
    "def lemmatize(contents):\n",
    "    wordnet_lemmatizer = WordNetLemmatizer()\n",
    "    tokens = nltk.word_tokenize(contents)\n",
    "    \n",
    "    lemmatized_tokens = []\n",
    "    for token in tokens:\n",
    "        lemmatized_tokens.append(wordnet_lemmatizer.lemmatize(token))\n",
    "        \n",
    "    return ' '.join(lemmatized_tokens)"
   ]
  },
  {
   "cell_type": "code",
   "execution_count": 4,
   "metadata": {},
   "outputs": [],
   "source": [
    "def stem(contents):\n",
    "    porter_stemmer = PorterStemmer()\n",
    "    tokens = nltk.word_tokenize(contents)\n",
    "    \n",
    "    stemmed_tokens = []\n",
    "    for token in tokens:\n",
    "        stemmed_tokens.append(porter_stemmer.stem(token))\n",
    "    \n",
    "    return ' '.join(stemmed_tokens)"
   ]
  },
  {
   "cell_type": "markdown",
   "metadata": {},
   "source": [
    "#### Tokenize and remove unnecessary characters"
   ]
  },
  {
   "cell_type": "code",
   "execution_count": 5,
   "metadata": {},
   "outputs": [],
   "source": [
    "def remove_unnecessary_characters(contents):\n",
    "    contents = contents.replace('\\n', ' ')\n",
    "    contents = contents.replace('..', '')\n",
    "    contents = contents.replace('--', '')\n",
    "    contents = contents.replace('==', '')\n",
    "    contents = contents.replace('///', '')\n",
    "    contents = contents.replace('\\\\\\\\', '')\n",
    "    contents = ' '.join(contents.split())\n",
    "    contents = contents.strip().lower()\n",
    "    \n",
    "#     contents = remove_stop_words(contents)\n",
    "    contents = lemmatize(contents)\n",
    "    contents = stem(contents)\n",
    "    tokenizer = RegexpTokenizer('[A-Za-z0-9\\@\\.\\&\\/\\:\\$\\-\\_]+')\n",
    "    tokens = tokenizer.tokenize(contents)\n",
    "    \n",
    "    tokens = ' '.join( [i for i in tokens if len(i) > 1])\n",
    "    \n",
    "    return tokens"
   ]
  },
  {
   "cell_type": "markdown",
   "metadata": {},
   "source": [
    "#### Replace e-mail address with \"this_is_email\""
   ]
  },
  {
   "cell_type": "code",
   "execution_count": 6,
   "metadata": {},
   "outputs": [],
   "source": [
    "def replace_email(content):\n",
    "    pattern = re.compile('[\\w\\/\\.\\-]+\\@[\\w\\/\\.\\-]+\\.[\\w]+')\n",
    "    replaced_content = re.sub(pattern, 'this_is_email', content)\n",
    "    return replaced_content"
   ]
  },
  {
   "cell_type": "markdown",
   "metadata": {},
   "source": [
    "#### Replace link address with \"this_is_link\""
   ]
  },
  {
   "cell_type": "code",
   "execution_count": 7,
   "metadata": {},
   "outputs": [],
   "source": [
    "def replace_link(content):\n",
    "    pattern = re.compile('(http[s]?:\\/\\/|www\\.)?[\\w\\/\\.\\-]+\\.(com|html|php)([\\/][\\w\\/\\.\\-]*)*')\n",
    "    replaced_content = re.sub(pattern, 'this_is_link', content)\n",
    "    return replaced_content"
   ]
  },
  {
   "cell_type": "markdown",
   "metadata": {},
   "source": [
    "### Main program"
   ]
  },
  {
   "cell_type": "markdown",
   "metadata": {},
   "source": [
    "#### Read CSV data for train data and test data"
   ]
  },
  {
   "cell_type": "code",
   "execution_count": 8,
   "metadata": {},
   "outputs": [],
   "source": [
    "train_data = pd.read_csv('dataset/train_data.csv')\n",
    "test_data = pd.read_csv('dataset/test_data.csv')"
   ]
  },
  {
   "cell_type": "markdown",
   "metadata": {},
   "source": [
    "#### Tokenize remove unnecessary characters for train data and test data"
   ]
  },
  {
   "cell_type": "code",
   "execution_count": 9,
   "metadata": {},
   "outputs": [
    {
     "name": "stdout",
     "output_type": "stream",
     "text": [
      "Train data\n"
     ]
    },
    {
     "data": {
      "text/plain": [
       "0    daytip poem-a-day 09/13/02 sponsor child today...\n",
       "1    jodi sent you messagejodi sent you messag tri ...\n",
       "2    re tricki perl question ascend orderjozsi vadk...\n",
       "3    suscribeyordanisp dmesd.vcl.rimed.cu to unsubs...\n",
       "4    re re moment of silenc for the first amend fwd...\n",
       "Name: content, dtype: object"
      ]
     },
     "execution_count": 9,
     "metadata": {},
     "output_type": "execute_result"
    }
   ],
   "source": [
    "preproc_train_data = train_data['content'].copy().apply(remove_unnecessary_characters).apply(replace_email).apply(replace_link)\n",
    "\n",
    "print('Train data')\n",
    "preproc_train_data.head()"
   ]
  },
  {
   "cell_type": "code",
   "execution_count": 10,
   "metadata": {},
   "outputs": [
    {
     "data": {
      "text/plain": [
       "'daytip poem-a-day 09/13/02 sponsor child today through child intern give desper poor child hope for brighter futur for onli 15 month you can make differ http this_is_link this_is_link daili list poem-a-day info this_is_link http this_is_link septemb 13 2002 i. from fairest creatur we desir increas that therebi beauti rose might never die but the riper should by time deceas hi tender heir might bear hi memori but thou contract to thine own bright eye feed st thi light st flame with self-substanti fuel make famin where abund lie thyself thi foe to thi sweet self too cruel thou that art now the world fresh ornament and onli herald to the gaudi spring within thine own bud buriest thi content and tender churl makest wast in niggard piti the world or els thi glutton be to eat the world due by the grave and thee shakespear william sonnet william shakespear 1564-1616 wa famou english poet dramatist and actor often regard the greatest english writer of all time shakespear earli life wa spent in stratford-upon-avon where littl els is known about him until he marri at age 18 to ann hathaway he enjoy quick recognit skill playwright in london member of the lord chamberlain compani also known the king men he retir in 1610 have spent success career writer and herald by royalti and peasant alik shakespear privaci result in sketchi timelin of the writer life lead mani over the year to attempt to fill in the gap often with scrap of fact and fiction that onli result in noth close to the truth truth we will probabl never know among the rumor and hypothesi offer over the year that he wa gay woman illiter recit hi work to scribe and puppet in which he did write the work but wa encourag to take credit to shield the real writer person with polit tie shakespear sonnet give reader glimps into the mind and heart of the playwright publish in 1609 the 154 sonnet involv the author relationship with variou charact includ strike young man mysteri woman and rival poet the ident of the charact have also been the subject of much specul over the year despit the fact that they may have been complet creat in the mind of the bard by micki kennedi of http this_is_link copyright this_is_link inc. 2002. all right reserv copyright by respect poet or publish use with permiss recommend daytip enter to win 10 000 http this_is_link to subscrib send messag to dailypoem-subscrib this_is_link to unsubscrib follow direct near the bottom save up to 80 on inkjet cartridg get free ship too no minimum order requir satisfact guarante fast easi shop price lower than offic suppli store http this_is_link thi email wa sent to mothlight fastmail.fm easi unsubscrib click here http this_is_link b1dcmw.b2yxqn or send an email to dailypoem-unsubscrib this_is_link regist now to manag your mail http this_is_link'"
      ]
     },
     "execution_count": 10,
     "metadata": {},
     "output_type": "execute_result"
    }
   ],
   "source": [
    "preproc_train_data[0]"
   ]
  },
  {
   "cell_type": "code",
   "execution_count": 11,
   "metadata": {},
   "outputs": [
    {
     "name": "stdout",
     "output_type": "stream",
     "text": [
      "Test data\n"
     ]
    },
    {
     "data": {
      "text/plain": [
       "0    re acroread not see printerson thu 2010-04-15 ...\n",
       "1    america great misleaderurl http this_is_link 8...\n",
       "2    lowestpric guarante on flea and tick med now y...\n",
       "3    re problem with apt-get -f install onc upon ti...\n",
       "4    ack apt-get still fail for me stump rh8 post a...\n",
       "Name: content, dtype: object"
      ]
     },
     "execution_count": 11,
     "metadata": {},
     "output_type": "execute_result"
    }
   ],
   "source": [
    "preproc_test_data = test_data['content'].copy().apply(remove_unnecessary_characters).apply(replace_email).apply(replace_link)\n",
    "\n",
    "print('Test data')\n",
    "preproc_test_data.head()"
   ]
  },
  {
   "cell_type": "markdown",
   "metadata": {},
   "source": [
    "## Feature extraction"
   ]
  },
  {
   "cell_type": "markdown",
   "metadata": {},
   "source": [
    "### TFIDF"
   ]
  },
  {
   "cell_type": "code",
   "execution_count": 12,
   "metadata": {},
   "outputs": [],
   "source": [
    "tfidf_vectorizer = TfidfVectorizer('english')\n",
    "tfidf_features = tfidf_vectorizer.fit_transform(preproc_train_data)"
   ]
  },
  {
   "cell_type": "markdown",
   "metadata": {},
   "source": [
    "### Count vectorizer features"
   ]
  },
  {
   "cell_type": "code",
   "execution_count": 13,
   "metadata": {},
   "outputs": [],
   "source": [
    "cv_vectorizer = CountVectorizer('english')\n",
    "cv_features = cv_vectorizer.fit_transform(preproc_train_data)"
   ]
  },
  {
   "cell_type": "markdown",
   "metadata": {},
   "source": [
    "### Train test split"
   ]
  },
  {
   "cell_type": "code",
   "execution_count": 14,
   "metadata": {},
   "outputs": [],
   "source": [
    "features_train, features_test, labels_train, labels_test = train_test_split(tfidf_features, train_data['prediction'], test_size=0.2, random_state=36)"
   ]
  },
  {
   "cell_type": "markdown",
   "metadata": {},
   "source": [
    "## Model"
   ]
  },
  {
   "cell_type": "markdown",
   "metadata": {},
   "source": [
    "### Function for hyperparameter tuning"
   ]
  },
  {
   "cell_type": "code",
   "execution_count": 15,
   "metadata": {},
   "outputs": [],
   "source": [
    "def hyperparameter_tuning(model, tuned_parameters):\n",
    "    scores = ['precision', 'recall']\n",
    "    \n",
    "    for score in scores:\n",
    "        print(\"# Tuning hyper-parameters for %s\" % score)\n",
    "        print()\n",
    "\n",
    "        clf = GridSearchCV(model, tuned_parameters, cv=5,\n",
    "                           scoring='%s_macro' % score)\n",
    "        clf.fit(features_train, labels_train)\n",
    "\n",
    "        print(\"Best parameters set found on development set:\")\n",
    "        print()\n",
    "        print(clf.best_params_)\n",
    "        print()\n",
    "        print(\"Grid scores on development set:\")\n",
    "        print()\n",
    "        means = clf.cv_results_['mean_test_score']\n",
    "        stds = clf.cv_results_['std_test_score']\n",
    "        for mean, std, params in zip(means, stds, clf.cv_results_['params']):\n",
    "            print(\"%0.3f (+/-%0.03f) for %r\"\n",
    "                  % (mean, std * 2, params))\n",
    "        print()\n",
    "\n",
    "        print(\"Detailed classification report:\")\n",
    "        print()\n",
    "        print(\"The model is trained on the full development set.\")\n",
    "        print(\"The scores are computed on the full evaluation set.\")\n",
    "        print()\n",
    "        prediction = clf.predict(features_test)\n",
    "        print(classification_report(labels_test, prediction))\n",
    "        print()"
   ]
  },
  {
   "cell_type": "markdown",
   "metadata": {},
   "source": [
    "### Support Vector Classification (SVC / SVM)"
   ]
  },
  {
   "cell_type": "markdown",
   "metadata": {},
   "source": [
    "#### Default setting"
   ]
  },
  {
   "cell_type": "code",
   "execution_count": 16,
   "metadata": {},
   "outputs": [
    {
     "data": {
      "text/plain": [
       "SVC(C=1.0, cache_size=200, class_weight=None, coef0=0.0,\n",
       "  decision_function_shape='ovr', degree=3, gamma=1.0, kernel='sigmoid',\n",
       "  max_iter=-1, probability=False, random_state=None, shrinking=True,\n",
       "  tol=0.001, verbose=False)"
      ]
     },
     "execution_count": 16,
     "metadata": {},
     "output_type": "execute_result"
    }
   ],
   "source": [
    "svc = SVC(kernel='sigmoid', gamma=1.0)\n",
    "svc.fit(features_train, labels_train)"
   ]
  },
  {
   "cell_type": "code",
   "execution_count": 17,
   "metadata": {},
   "outputs": [
    {
     "data": {
      "text/plain": [
       "0.988"
      ]
     },
     "execution_count": 17,
     "metadata": {},
     "output_type": "execute_result"
    }
   ],
   "source": [
    "prediction = svc.predict(features_test)\n",
    "accuracy_score(labels_test, prediction)"
   ]
  },
  {
   "cell_type": "code",
   "execution_count": 18,
   "metadata": {},
   "outputs": [
    {
     "data": {
      "text/plain": [
       "0.9914529914529915"
      ]
     },
     "execution_count": 18,
     "metadata": {},
     "output_type": "execute_result"
    }
   ],
   "source": [
    "f1_score(labels_test, prediction)"
   ]
  },
  {
   "cell_type": "markdown",
   "metadata": {},
   "source": [
    "#### Hyperparameter tuning"
   ]
  },
  {
   "cell_type": "code",
   "execution_count": 19,
   "metadata": {},
   "outputs": [],
   "source": [
    "tuned_parameters = [{'kernel': ['rbf'], 'gamma': [1e-3, 1e-4],\n",
    "                     'C': [1, 10, 100, 1000]},\n",
    "                    {'kernel': ['linear'], 'C': [1, 10, 100, 1000]}]"
   ]
  },
  {
   "cell_type": "code",
   "execution_count": 20,
   "metadata": {},
   "outputs": [],
   "source": [
    "# hyperparameter_tuning(SVC(), tuned_parameters)"
   ]
  },
  {
   "cell_type": "markdown",
   "metadata": {},
   "source": [
    "#### After hyperparameter tuning"
   ]
  },
  {
   "cell_type": "code",
   "execution_count": 21,
   "metadata": {},
   "outputs": [
    {
     "data": {
      "text/plain": [
       "SVC(C=10, cache_size=200, class_weight=None, coef0=0.0,\n",
       "  decision_function_shape='ovr', degree=3, gamma='auto', kernel='linear',\n",
       "  max_iter=-1, probability=False, random_state=None, shrinking=True,\n",
       "  tol=0.001, verbose=False)"
      ]
     },
     "execution_count": 21,
     "metadata": {},
     "output_type": "execute_result"
    }
   ],
   "source": [
    "# Recall > precision because it is more dangerous for not-spam email marked as spam than the other way around\n",
    "\n",
    "svc = SVC(kernel='linear', C=10)\n",
    "svc.fit(features_train, labels_train)"
   ]
  },
  {
   "cell_type": "code",
   "execution_count": 22,
   "metadata": {},
   "outputs": [
    {
     "data": {
      "text/plain": [
       "0.99"
      ]
     },
     "execution_count": 22,
     "metadata": {},
     "output_type": "execute_result"
    }
   ],
   "source": [
    "prediction = svc.predict(features_test)\n",
    "accuracy_score(labels_test, prediction)"
   ]
  },
  {
   "cell_type": "code",
   "execution_count": 23,
   "metadata": {},
   "outputs": [
    {
     "data": {
      "text/plain": [
       "0.9928673323823112"
      ]
     },
     "execution_count": 23,
     "metadata": {},
     "output_type": "execute_result"
    }
   ],
   "source": [
    "f1_score(labels_test, prediction)"
   ]
  },
  {
   "cell_type": "code",
   "execution_count": 24,
   "metadata": {},
   "outputs": [
    {
     "data": {
      "text/plain": [
       "array([[348,   3],\n",
       "       [  2, 147]])"
      ]
     },
     "execution_count": 24,
     "metadata": {},
     "output_type": "execute_result"
    }
   ],
   "source": [
    "confusion_matrix(labels_test, prediction, labels=[1, 0])"
   ]
  },
  {
   "cell_type": "code",
   "execution_count": 25,
   "metadata": {},
   "outputs": [
    {
     "data": {
      "text/plain": [
       "442     1\n",
       "1440    1\n",
       "1391    0\n",
       "1770    0\n",
       "1503    1\n",
       "Name: prediction, dtype: int64"
      ]
     },
     "execution_count": 25,
     "metadata": {},
     "output_type": "execute_result"
    }
   ],
   "source": [
    "misclassified_samples = labels_test[labels_test != prediction]\n",
    "\n",
    "misclassified_samples"
   ]
  },
  {
   "cell_type": "code",
   "execution_count": 26,
   "metadata": {},
   "outputs": [],
   "source": [
    "mis_indexes = misclassified_samples.index.tolist()"
   ]
  },
  {
   "cell_type": "code",
   "execution_count": 27,
   "metadata": {},
   "outputs": [],
   "source": [
    "pd.options.display.max_colwidth = 10000"
   ]
  },
  {
   "cell_type": "code",
   "execution_count": 70,
   "metadata": {},
   "outputs": [
    {
     "name": "stdout",
     "output_type": "stream",
     "text": [
      "the 240.33175366893477\n",
      "to 190.11930259218894\n",
      "of 125.72375108519061\n",
      "and 124.81130872562416\n",
      "you 102.83483723502889\n",
      "in 97.28697137751\n",
      "it 90.72693380405312\n",
      "for 82.88066892536122\n",
      "that 81.97376074474337\n",
      "nbsp 73.19669142035976\n",
      "this_is_link 72.40383161801171\n",
      "http 72.24456230962299\n",
      "thi 70.90620685096799\n",
      "on 68.32369397757274\n",
      "your 63.683416395491534\n",
      "with 62.95066625509182\n",
      "have 53.23009355292699\n",
      "are 52.19581375513457\n",
      "from 51.355316263644035\n",
      "do 49.690963606230376\n",
      "unsubscrib 47.12443783231154\n",
      "or 46.78975560505487\n",
      "use 45.45441111370598\n",
      "if 44.441646381349734\n",
      "list 44.07645763971184\n",
      "email 42.06396823792177\n",
      "can 38.416223659384265\n",
      "all 36.36086027030789\n",
      "by 35.587421613223555\n",
      "get 35.46003240418657\n",
      "here 35.21439850608956\n",
      "user 31.722560691735538\n",
      "no 31.25086148567395\n",
      "click 30.887894003070425\n",
      "what 30.48857208036214\n",
      "more 29.08014516821048\n",
      "2002 28.80702383507804\n",
      "out 26.558524491264592\n",
      "free 25.440513470209034\n",
      "now 24.68535482405277\n",
      "about 24.636610594200185\n",
      "time 24.576602579879168\n",
      "onli 24.573513911871697\n",
      "new 23.976301410462543\n",
      "10 23.644644999734336\n",
      "pleas 23.342162881837357\n",
      "instal 22.62267765595474\n",
      "how 22.57943212406872\n",
      "see 22.523050542652616\n",
      "thu 21.631701827126754\n",
      "sep 21.59010599082852\n",
      "need 21.403162718993716\n",
      "go 19.6659521231371\n",
      "nobodi 18.850878309750968\n",
      "2018 18.294996569943116\n",
      "know 18.070235866759333\n",
      "inform 18.018852052416186\n",
      "price 17.78750751559312\n",
      "newslett 17.164211041488397\n",
      "than 16.655233340701223\n",
      "find 15.891951238753805\n",
      "link 15.756106007723437\n",
      "read 15.630282817088252\n",
      "set 14.623546585837241\n",
      "thing 14.26823813739007\n",
      "ca 14.001622094999856\n",
      "000 13.668265275831375\n",
      "subscript 13.567377554442187\n",
      "best 13.421711063672184\n",
      "includ 13.089529111073722\n",
      "softwar 12.65307532147063\n",
      "two 12.556798330453525\n",
      "issu 12.368013709149134\n",
      "quot 12.039257427376109\n",
      "seem 11.943583068725502\n",
      "offer 11.740481680032492\n",
      "point 11.374271340528924\n",
      "secur 11.223145672890995\n",
      "person 11.195239554680887\n",
      "open 10.744186681763587\n",
      "follow 10.701335487368372\n",
      "product 10.63479124300127\n",
      "come 10.568665866449965\n",
      "befor 10.238145967371068\n",
      "prefer 10.12874202480805\n",
      "30 9.084433117948265\n",
      "suppli 9.018812268936374\n",
      "special 9.010115511663823\n",
      "buy 8.840288285459009\n",
      "tell 8.595292864387144\n",
      "custom 8.578519127745551\n",
      "access 8.438043480720982\n",
      "type 8.291619891043988\n",
      "keep 8.252800214519453\n",
      "applic 8.132244753975225\n",
      "next 8.12373445868763\n",
      "color 8.034972005158622\n",
      "devic 8.02424014331302\n",
      "power 7.894090389843527\n",
      "design 7.849434824592795\n",
      "featur 7.7257376116771495\n",
      "alway 7.564004315231479\n",
      "between 7.557174551748443\n",
      "profession 7.053789048125922\n",
      "download 6.969616091713344\n",
      "select 6.939714580148703\n",
      "million 6.793660582616961\n",
      "import 6.785548838585306\n",
      "wait 6.662775805435057\n",
      "simpl 6.538788606128806\n",
      "friend 6.529694645035627\n",
      "info 6.3482141870619335\n",
      "advertis 6.298976645208924\n",
      "launch 6.144228740725138\n",
      "plan 6.134360477358015\n",
      "main 5.802317879217064\n",
      "edit 5.567136604504409\n",
      "far 5.517187473048989\n",
      "protect 5.509744323204176\n",
      "citi 5.455939870993787\n",
      "major 5.437077823743112\n",
      "shop 5.305934778497084\n",
      "app 5.280480220140245\n",
      "exactli 5.2570500170904975\n",
      "trade 5.244130264225508\n",
      "screen 5.225400828489387\n",
      "33 5.159393433151042\n",
      "septemb 5.101290760251268\n",
      "regist 4.721179377094111\n",
      "graphic 4.572046373809979\n",
      "hit 4.540889433046343\n",
      "opportun 4.431947390183843\n",
      "choos 4.417245751459964\n",
      "game 4.3266323792989825\n",
      "pick 4.228610945435834\n",
      "quick 4.125640237615396\n",
      "7bit 4.096001046857042\n",
      "discount 4.084160033674569\n",
      "tip 4.037404649490548\n",
      "digit 3.8190674914529272\n",
      "easili 3.8074352928233615\n",
      "choic 3.7867842121551183\n",
      "plu 3.3420630709287753\n",
      "button 3.260317413983186\n",
      "purchas 3.2406691779750427\n",
      "instruct 3.1970452593431204\n",
      "modifi 3.186498799826564\n",
      "half 3.1745640894087055\n",
      "sometim 3.1130325723397334\n",
      "deliv 3.0307454363687945\n",
      "200 2.9285280259031454\n",
      "reduc 2.8654515042019693\n",
      "uniqu 2.7250640471211094\n",
      "guid 2.5531957731213084\n",
      "earn 2.5489770384648396\n",
      "target 2.5362342804348534\n",
      "pa 2.5167408389997545\n",
      "menu 2.3624590745385166\n",
      "800 2.357714533957233\n",
      "cool 2.3152974105988133\n",
      "pro 2.2205880128093365\n",
      "reg 2.191541745732157\n",
      "correctli 2.1621384739136578\n",
      "fun 2.1596400500825816\n",
      "togeth 2.141888445293776\n",
      "trial 2.1204242339664225\n",
      "recip 2.0900678527287293\n",
      "essenti 2.0646654975394068\n",
      "london 2.0469965232131484\n",
      "canada 2.023819465347799\n",
      "calcul 1.9943103707011478\n",
      "road 1.9361034023229167\n",
      "carri 1.856634549212065\n",
      "travel 1.8225082555480698\n",
      "attract 1.4537194101257407\n",
      "trip 1.4466450736241312\n",
      "palm 1.4039168367276376\n",
      "addict 1.3967795984396187\n",
      "convers 1.328995970754973\n",
      "theme 1.1883877372385294\n",
      "pocket 1.1026925649272283\n",
      "champion 0.9531363346669871\n",
      "mexico 0.8351113242567504\n",
      "cook 0.8231701715080907\n",
      "rand 0.8192505229787481\n",
      "tap 0.7496347878289278\n",
      "inspir 0.7195609989739512\n",
      "synchron 0.6855301033901855\n",
      "launcher 0.6507349387203751\n",
      "pda 0.649179317323438\n",
      "festiv 0.5603532344021386\n",
      "puzzl 0.5514394142686215\n",
      "seller 0.4876369337011902\n",
      "handheld 0.3638258344517438\n",
      "mileag 0.35642733594079856\n",
      "tube 0.276535675994075\n",
      "stylu 0.2477597032726806\n",
      "tenni 0.17780339527185324\n",
      "handango 0.177216931615211\n",
      "delux 0.1527930708834128\n",
      "mcnalli 0.14669015586717804\n",
      "cutepack 0.0886084658076055\n",
      "devicefrom 0.04430423290380275\n",
      "flipdi 0.04430423290380275\n",
      "hexacto 0.04430423290380275\n",
      "infosaf 0.04430423290380275\n",
      "installig 0.04430423290380275\n",
      "onemail 0.04430423290380275\n",
      "phrasebook 0.04430423290380275\n",
      "planner 0.04430423290380275\n",
      "psst 0.04430423290380275\n",
      "quickwrit 0.04430423290380275\n",
      "realign 0.04430423290380275\n"
     ]
    }
   ],
   "source": [
    "scores = zip(tfidf_vectorizer.get_feature_names(),\n",
    "             np.asarray(tfidf_features.sum(axis=0)).ravel())\n",
    "sorted_scores = sorted(scores, key=lambda x: x[1], reverse=True)\n",
    "temp_arr = []\n",
    "for item in sorted_scores:\n",
    "    for word in preproc_train_data[442].split():\n",
    "        if item[0] == word and word not in temp_arr:\n",
    "            temp_arr.append(word)\n",
    "            print(word, item[1])"
   ]
  },
  {
   "cell_type": "code",
   "execution_count": 71,
   "metadata": {},
   "outputs": [
    {
     "name": "stdout",
     "output_type": "stream",
     "text": [
      "thi 70.90620685096799\n",
      "pleas 23.342162881837357\n",
      "address 17.36702250504322\n",
      "instead 7.192817185279665\n",
      "geeg 3.262003852791345\n",
      "erus 0.5786509184067304\n",
      "prerog 0.5786509184067304\n"
     ]
    }
   ],
   "source": [
    "scores = zip(tfidf_vectorizer.get_feature_names(),\n",
    "             np.asarray(tfidf_features.sum(axis=0)).ravel())\n",
    "sorted_scores = sorted(scores, key=lambda x: x[1], reverse=True)\n",
    "temp_arr = []\n",
    "for item in sorted_scores:\n",
    "    for word in preproc_train_data[1440].split():\n",
    "        if item[0] == word and word not in temp_arr:\n",
    "            temp_arr.append(word)\n",
    "            print(word, item[1])"
   ]
  },
  {
   "cell_type": "code",
   "execution_count": 29,
   "metadata": {},
   "outputs": [],
   "source": [
    "def display_scores(vectorizer, tfidf_result):\n",
    "    # http://stackoverflow.com/questions/16078015/\n",
    "    scores = zip(vectorizer.get_feature_names(),\n",
    "                 np.asarray(tfidf_result.sum(axis=0)).ravel())\n",
    "    sorted_scores = sorted(scores, key=lambda x: x[1], reverse=True)\n",
    "    for item in sorted_scores[0:50]:\n",
    "        print(\"{0:50} Score: {1}\".format(item[0], item[1]))"
   ]
  },
  {
   "cell_type": "code",
   "execution_count": 30,
   "metadata": {},
   "outputs": [
    {
     "name": "stdout",
     "output_type": "stream",
     "text": [
      "the                                                Score: 240.33175366893477\n",
      "to                                                 Score: 190.11930259218894\n",
      "of                                                 Score: 125.72375108519061\n",
      "and                                                Score: 124.81130872562416\n",
      "you                                                Score: 102.83483723502889\n",
      "is                                                 Score: 97.35270767958957\n",
      "in                                                 Score: 97.28697137751\n",
      "debian                                             Score: 95.69655404699763\n",
      "it                                                 Score: 90.72693380405312\n",
      "for                                                Score: 82.88066892536122\n",
      "that                                               Score: 81.97376074474337\n",
      "org                                                Score: 76.59923744033216\n",
      "nbsp                                               Score: 73.19669142035976\n",
      "this_is_link                                       Score: 72.40383161801171\n",
      "http                                               Score: 72.24456230962299\n",
      "thi                                                Score: 70.90620685096799\n",
      "on                                                 Score: 68.32369397757274\n",
      "lists                                              Score: 68.14101446134718\n",
      "20                                                 Score: 67.98028357491916\n",
      "your                                               Score: 63.683416395491534\n",
      "with                                               Score: 62.95066625509182\n",
      "be                                                 Score: 55.714280930405735\n",
      "have                                               Score: 53.23009355292699\n",
      "not                                                Score: 53.005866336978734\n",
      "are                                                Score: 52.19581375513457\n",
      "from                                               Score: 51.355316263644035\n",
      "do                                                 Score: 49.690963606230376\n",
      "unsubscrib                                         Score: 47.12443783231154\n",
      "or                                                 Score: 46.78975560505487\n",
      "use                                                Score: 45.45441111370598\n",
      "if                                                 Score: 44.441646381349734\n",
      "list                                               Score: 44.07645763971184\n",
      "email                                              Score: 42.06396823792177\n",
      "but                                                Score: 41.9232786917884\n",
      "mail                                               Score: 41.66685819859599\n",
      "at                                                 Score: 41.654904656880134\n",
      "re                                                 Score: 41.39283226089768\n",
      "wa                                                 Score: 40.24098890350781\n",
      "my                                                 Score: 39.80099866368052\n",
      "net                                                Score: 39.418756882429996\n",
      "our                                                Score: 38.999533661892876\n",
      "content                                            Score: 38.80984387091462\n",
      "can                                                Score: 38.416223659384265\n",
      "linux                                              Score: 38.313116571442215\n",
      "all                                                Score: 36.36086027030789\n",
      "we                                                 Score: 36.305432858406014\n",
      "by                                                 Score: 35.587421613223555\n",
      "get                                                Score: 35.46003240418657\n",
      "here                                               Score: 35.21439850608956\n",
      "wrote                                              Score: 34.53923777518794\n"
     ]
    }
   ],
   "source": [
    "display_scores(tfidf_vectorizer, tfidf_features)"
   ]
  },
  {
   "cell_type": "code",
   "execution_count": 31,
   "metadata": {},
   "outputs": [
    {
     "name": "stdout",
     "output_type": "stream",
     "text": [
      "442 person your palm devicefrom nobodi thu sep 17:44:27 2018 content-typ text/html content-transfer-encod 7bit if you ca read thi email pleas go to http this_is_link palm reg edit nbsp nbsp nbsp issu 33 septemb 2002 nbsp nbsp nbsp nbsp person your palm devic thi issu featur app that are uniqu you are custom your launch screen plan trip design special menu protect your extra-speci inform and choos your game puzzl or tenni it all here in septemb handango champion newslett featur softwar what new tip of the trade champion choic nbsp nbsp infosaf plu carri import person info with you secur and alway have quick access to it 16.99 read more buy now nbsp nbsp pocket cook delux full-featur recip app with menu planner shop list and 000 suppli recip 19.95 read more buy now nbsp nbsp launcher plu custom your palm with thi cool applic launcher and use fun theme color and graphic 18.00 read more buy now nbsp nbsp flipdi fruit-flip festiv of fun come to the screen of your palm handheld price reduc 4.99 read more buy now nbsp nbsp hexacto tenni addict inspir by the u.s. open purchas thi game befor sept. 30 and get special offer 19.95 read more buy now psst handango offer all type of pda user all type of use softwar pa it on tell friend or 10 about handango and earn discount on your next softwar purchas click here to find out how nbsp nbsp nbsp nbsp nbsp nbsp cutepack travel london tube guid convers pro phrasebook more in travel product cutepack button launcher pro quickwrit profession more in product synchron instal installig onemail more in synchron quot keep your tap on target if your pda screen tap sometim do seem to regist correctli use the built-in digit to easili re-adjust the set go to the main applic screen and tap on prefer choos digit from the upper-right pull-down menu follow the simpl on-screen instruct to realign your stylu with the screen nbsp rand mcnalli mileag calcul next time you hit the road know exactli how far you need to go togeth your palm power pda and the rand mcnalli mileag calcul can deliv half million mileag between citi and attract select two point and get mileag with no wait includ more than 800 citi includ major citi in mexico and canada plu more than 200 cool thing to see onli 9.99 click here to purchas or download free trial quick link nbsp nbsp nbsp palm best seller nbsp nbsp nbsp nbsp nbsp handango palm pick nbsp nbsp nbsp nbsp nbsp palm essenti nbsp nbsp to unsubscrib or modifi your subscript click here for advertis opportun email champion this_is_link\n",
      "1440 erus thi address instead pleas prerog geeg\n",
      "1391 save 5.00 on creamfield ticketscreamfield saturday 24th august 2002 2pm-6am licenc grant old liverpool airfield speke road liverpool creamfield it what august bank holiday are for creamfield is the most intens chill out full on laid back experi you can cram into one day creamfield is the onli award-win danc festiv it the onli festiv to featur the best live act on an outdoor stage leav the arena to the dj creamfield is the best of cream bug out global underground sublimin passion pacha futura frantic nukleuz bacardi bar and sunday best it just get better to help get the parti start right ticketmast have negoti an exclus offer of 5.00 off the normal price of ticket make the ticket just 41.00 plu book fee book here now thi offer is onli avail until 22 june http //www.ticketmaster.co.uk/mkt_email/mktemail.asp id 114 the line-up includ faithless underworld mis-teeq dj shadow kosheen lemon jelli stanton warrior bent fc kahuna layo and bushwacka live man call adam dirti vega paul oakenfold sasha deep dish pete tong dave clark timo maa dj tiesto erick morillo seb fontain xpress judg jule yousef tall paul fergi steve lawler lotti nick warren sander kleinenberg ferri corsten armin van buuren john kelli sandra collin justin robertson umek jon carter jame zabiela jfk guy ornadel scott bond corvin dalek rob da bank paul bleasdal jan carbon andi carrol richard scanti and mani mani more the offer is strictli subject to avail and doe not appli to ticket alreadi purchas to stay up to date with other new event on sale sign up for ticketmast weekli ticket alert email newslett http //www.ticketmaster.co.uk/ticket_alert/ pleas do not repli to thi email you will not get respons to remov yourself from thi mail list pleas email here mailto unsubscrib ticketmaster.co.uk and write unsubscrib in the subject line for all other enquiri visit our help page http //www.ticketmaster.co.uk/help/\n",
      "1770 scoop it is not my fault .- vwiidhi rita read my lipstick live from amsterdam nbsp nbsp nbsp nbsp nbsp thi mail is never sent unsolicit got it by error target _blank click here to be remov from our subscrib list fuclcxlequtkbfuoeseysgfu thi sf.net email is sponsor by thinkgeek welcom to geek heaven http this_is_link _______________________________________________ sitescooper-talk mail list sitescooper-talk lists.sourceforge.net http //lists.sourceforge.net/lists/listinfo/sitescooper-talk\n",
      "1503 govern regul is kill the stock marketpress releas from the ayn rand institut 2121 alton parkway suit 250 irvin ca 92606 juli 24 2002 for immedi releas govern regul is kill the stock market irvin ca the steep declin in the stock market is be fuel by investor realiz that increas govern constraint on corpor america will harm busi and the economynot help them said yaron brook execut director of the ayn rand institut instead of launch witch-hunt against ceo and rush to give the govern wider power over busi we should get rid of the complex and contradictori regul that encourag bad account and prevent sharehold from act in their own interest the common explan that greed is to blame make no senseth abus in compani like enron and worldcom were not exercis in self-interest but in self-destruct in an unfett free market the desir for profit is satisfi by honest long-rang ration behavior by innov by hire the best employe by sell qualiti product and by provid accur inform to the owner of the corporationth sharehold for short-rang manag the market will not toler them for the real swindler exist law against forc and fraud are suffici to protect if our politician are inde concern about the stock market said dr. brook let them demonstr it by elimin not ad regul and make the market truli free ayn rand institut execut director dr. yaron brook is avail for interview on thi topic contact larri benson e-mail larryb aynrand.org phone 949 222-6550 ext 213 read dr. brook full op- at http //www.aynrand.org/medialink/killingthestockmarket.shtml for more inform on ari uniqu point of view go to medialink at the institut web site at www.aynrand.org found in 1985 the ayn rand institut promot the philosophi of ayn rand author of atla shrug and the fountainhead if you wish to have your email gazett vineyard.net remov from thi list pleas send an email to davidh aynrand.org with the email address to be remov thank you\n"
     ]
    }
   ],
   "source": [
    "for i in mis_indexes:\n",
    "    print(i, preproc_train_data[i])"
   ]
  },
  {
   "cell_type": "code",
   "execution_count": 32,
   "metadata": {},
   "outputs": [
    {
     "name": "stdout",
     "output_type": "stream",
     "text": [
      "442    373\n",
      "Name: id, dtype: int64 442    Personalize your Palm OS deviceFrom nobody Thu Sep  6 17:44:27 2018\\nContent-Type: text/html\\nContent-Transfer-Encoding: 7bit\\n\\n\\nIf you can't read this email, please go to: http://www.handango.com/palmnewsletter \\n\\n\\n\\n   \\n    \\n    \\n    Palm \\n      OS&reg; Edition&nbsp;&nbsp;&nbsp;\\n      Issue \\n      #33, September 2002&nbsp;&nbsp;&nbsp;\\n  \\n\\n\\n   \\n    &nbsp;\\n     \\n      \\n         \\n          \\n           \\n            Personalize \\n              your Palm OS device! This issue features apps that are as unique \\n              as you are. Customize your launch screen, plan a trip, design a \\n              special menu, protect your extra-special information and choose \\n              your game: puzzles or tennis. It's all here in September's Handango \\n              Champion newsletter!\\n            \\n              \\n                \\n                  Featured \\n                    Software\\n                \\n                 \\n                  What's \\n                    New\\n                \\n                 \\n                  Tips \\n                    Of The Trade\\n                \\n                 \\n                  Champion's \\n                    Choice \\n                \\n              \\n            \\n            \\n          \\n        \\n      \\n    \\n  \\n\\n\\n   \\n\\t&nbsp;\\n\\t\\n  \\n   \\n\\t&nbsp;\\n\\t\\n\\t \\n\\t  \\n\\t\\t \\n\\t\\t  InfoSafe Plus: Carry important personal info with you securely \\n            and always have quick access to it.\\n\\t\\t  $16.99\\n            Read \\n            More\\n            Buy \\n            Now\\n\\t\\t\\n\\t\\t \\n\\t\\t  &nbsp;\\n\\t\\t  &nbsp;\\n\\t\\t\\n\\t\\t \\n\\t\\t  Pocket \\n            Cook Deluxe: A full-featured recipe app with a menu \\n            planner, shopping list and 4,000 supplied recipes.\\n\\t\\t  $19.95\\n            Read \\n            More\\n            Buy \\n            Now\\n\\t\\t\\n\\t\\t \\n\\t\\t  &nbsp;\\n\\t\\t  &nbsp;\\n\\t\\t\\n\\t\\t \\n\\t\\t  Launcher \\n            PLUS!: Customize your Palm with this cool application \\n            launcher and use fun themes, colors and graphics.\\n\\t\\t  $18.00\\n            Read \\n            More\\n\\t\\t\\tBuy Now\\n\\t\\t\\n\\t\\t \\n\\t\\t  &nbsp;\\n\\t\\t  &nbsp;\\n\\t\\t\\n\\t\\t \\n\\t\\t  FlipDis: \\n            A fruit-flipping festival of fun comes to the screen of your Palm \\n            handheld! Price reduced!\\n\\t\\t  $4.99\\n            Read \\n            More\\n            Buy \\n            Now\\n\\t\\t\\n\\t\\t \\n\\t\\t  &nbsp;\\n\\t\\t  &nbsp;\\n\\t\\t\\n\\t\\t \\n\\t\\t  Hexacto's \\n            Tennis Addict: Inspired by the U.S. Open? Purchase \\n            this game before Sept. 30 and get a special offer!\\n\\t\\t  $19.95\\n            Read \\n            More\\n            Buy \\n            Now\\n\\t\\t\\n\\t  \\n\\t\\n\\t\\n\\t  \\n\\t\\t \\n\\t\\t   \\n            \\n               \\n                 \\n                  Psst... \\n                    \\n                    Handango offers all types of PDA users all types of useful \\n                    software... \\n                    Pass it on! \\n                  Tell \\n                    a friend (or 10) about Handango and earn a discount on your \\n                    next software purchase.\\n                  Click \\n                    here to find out how! \\n                  \\n\\t\\t\\t  \\n\\t\\t\\t\\n\\t\\t  \\n\\t\\t\\n\\t\\t \\n\\t\\t  \\n\\t\\t\\n\\t  \\n\\t\\n  \\n   \\n\\t&nbsp;\\n\\t\\n  \\n   \\n\\t&nbsp;\\n\\t\\n  \\n   \\n\\t&nbsp;\\n\\t\\n  \\n   \\n\\t&nbsp;\\n\\t\\n  \\n   \\n\\t&nbsp;\\n\\t\\n  \\n   \\n\\t&nbsp;\\n\\t\\n  \\n\\n\\n   \\n    \\n    \\n    \\n  \\n   \\n    \\n    \\n     \\n      \\n         \\n          \\n        \\n         \\n          CutePack \\n            \\n        \\n      \\n\\n\\n      Travel\\n      \\n        \\n\\t\\tLondon \\n          Tube Guide\\n\\t\\tConversions Pro\\n        Phrasebooks \\n                    \\t\\n\\t\\tMore in Travel...\\n\\t\\t\\n      \\n\\n      Productivity\\n      \\n         \\n        CutePack\\n        1 Button Launcher Pro\\n        QuickWrite \\n          Professional \\n          More in Productivity...\\n         \\n      \\n\\n      Synchronization & Installation\\n      \\n         \\n        Installigent\\n        OneMail \\n          \\n          More in Synchronization... \\n        \\n        \\n      \\n\\n      \\n     \\n      \\n         \\n           \\n            \\n               \\n                 \\n                  &quot;Keep \\n                    Your Taps \\n                    on Target\" \\n                    \\n                   \\n                    If \\n                      your PDA screen taps sometimes don't seem to register correctly, \\n                      use the built-in digitizer to easily re-adjust the settings.\\n                    Go \\n                    to the main Applications screen and tap on Preferences. Choose \\n                    'Digitizer' from the upper-right pull-down menu. Follow the \\n                    simple on-screen instructions to realign your stylus with \\n                    the screen. \\n                     \\n                    \\n                  \\n              \\n            \\n          \\n        \\n         \\n          \\n        \\n      \\n    \\n  \\n\\n\\n   \\n    \\n    \\n    &nbsp; \\n  \\n   \\n    \\n    \\n     \\n      \\n         \\n        Rand \\n        McNally Mileage Calculator\\n        Next \\n        time you hit the road, know exactly how far you need to go. Together, \\n        your Palm Powered PDA and the Rand McNally Mileage Calculator can deliver \\n        half a million mileages between cities and attractions. \\n      Select two \\n        points and get mileages with no waiting! Includes more than 800 cities, \\n        including major cities in Mexico and Canada, plus more than 200 cool things \\n        to see. Only $9.99!\\n      Click \\n        here to purchase or download a free trial.\\n      \\n      Quick \\n        links: &nbsp;&nbsp;&nbsp;Palm \\n        OS Best Sellers &nbsp;&nbsp;&nbsp;&nbsp;&nbsp; Handango's \\n        Palm OS Picks &nbsp;&nbsp;&nbsp;&nbsp;&nbsp; Palm OS Essentials\\n    \\n  \\n\\n\\n   \\n    &nbsp;\\n    \\n  \\n\\n\\n   \\n    \\n    &nbsp;\\n     \\n      To unsubscribe \\n        or modify your subscription, click \\n        here.\\n        For advertising opportunities, email champion@handango.com. \\n         \\n        \\n    \\n    \\n  \\n\\n\\n\n",
      "Name: content, dtype: object\n",
      "1440    792\n",
      "Name: id, dtype: int64 1440    Eruse this address instead, please.\\n\\nprerogatively,\\ngeege\n",
      "Name: content, dtype: object\n",
      "1391    190\n",
      "Name: id, dtype: int64 1391    Save 5.00 on Creamfields ticketsCreamfields\\nSaturday 24th August 2002 2pm-6am (licence granted)\\nOld Liverpool Airfield\\nSpeke Road, Liverpool\\n\\nCreamfields. It's What August Bank Holidays Are for.  \\n\\nCreamfields is the most intense, chilled out, full on, laid back experience you can cram into one day.  Creamfields is the only award-winning dance festival. It's the only festival to feature the best live acts on an outdoor stage, leaving the arenas to the DJs. Creamfields is the best of Cream, Bugged Out!, Global Underground, Subliminal, Passion, Pacha Futura, Frantic, Nukleuz, Bacardi B Bar and Sunday Best. It Just Gets Better.\\n\\nTo help get the party started (right), Ticketmaster have negotiated an exclusive offer of 5.00 off the normal price of tickets making the tickets just 41.00 plus booking fee.\\n\\nBook here NOW. This offer is only available until 22 June*\\n\\nhttp://www.ticketmaster.co.uk/mkt_email/mktemail.asp?id=114\\n\\nThe line-up includes:  \\n\\nFAITHLESS\\nUNDERWORLD\\nMIS-TEEQ DJ SHADOW\\nKOSHEEN LEMON JELLY STANTON WARRIORS BENT FC KAHUNA\\nLAYO AND BUSHWACKA (live) A MAN CALLED ADAM DIRTY VEGAS\\n\\nPAUL OAKENFOLD, SASHA, DEEP DISH, PETE TONG, DAVE CLARKE, TIMO MAAS, \\nDJ TIESTO, ERICK MORILLO, SEB FONTAINE, XPRESS 2, JUDGE JULES, YOUSEF, TALL PAUL, FERGIE, STEVE LAWLER, LOTTIE, NICK WARREN, SANDER KLEINENBERG, FERRY CORSTEN, ARMIN VAN BUUREN, JOHN KELLY, SANDRA COLLINS, JUSTIN ROBERTSON, UMEK, JON CARTER, JAMES ZABIELA, JFK, GUY ORNADEL, SCOTT BOND, CORVIN DALEK, ROB DA BANK, PAUL BLEASDALE, JAN CARBON, ANDY CARROLL, RICHARD SCANTY\\nAnd many, many more\\n\\n\\n*The offer is strictly subject to availability and does not apply to tickets already purchased.\\n\\nTo stay up to date with other new events on sale, sign up for Ticketmaster's weekly Ticket Alert email newsletter. http://www.ticketmaster.co.uk/ticket_alert/\\n\\nPlease do not reply to this email, as you will not get a response. To remove yourself from this mailing list, please email here: mailto:unsubscribe@ticketmaster.co.uk and write \"Unsubscribe\" in the subject line. For all other enquiries, visit our help page: http://www.ticketmaster.co.uk/help/\n",
      "Name: content, dtype: object\n",
      "1770    604\n",
      "Name: id, dtype: int64 1770    [scoop] ....It is not my fault. .- vwiidHi i'm Rita !!!\\n\\n\\n\\n\\n  \\n  \\n    READ\\n      MY\\n      LIPStick\\n       !\\n      \\n    \\n\\n  \\n    \\n      LIVE\\n      From\\n      Amsterdam\\n      !\\n    \\n&nbsp;\\n&nbsp;\\n&nbsp;\\n&nbsp;\\n&nbsp;\\nThis mail is NEVER sent unsolicited, Got it by \\nerror ?[ \" \\ntarget=_blank>CLICK HERE ] to be removed from our \\nsubscribers List ! \\n\\n\\n\\n\\n\\n\\n\\n\\n\\n\\n\\n\\n\\n\\n\\n\\n\\n\\n\\nfuclcxlequtkbfuoeseysgfu\\n\\n\\n-------------------------------------------------------\\nThis sf.net email is sponsored by:ThinkGeek\\nWelcome to geek heaven.\\nhttp://thinkgeek.com/sf\\n_______________________________________________\\nSitescooper-talk mailing list\\nSitescooper-talk@lists.sourceforge.net\\nhttps://lists.sourceforge.net/lists/listinfo/sitescooper-talk\n",
      "Name: content, dtype: object\n",
      "1503    1444\n",
      "Name: id, dtype: int64 1503    GOVERNMENT REGULATION IS KILLING THE STOCK MARKETPRESS RELEASE FROM THE AYN RAND INSTITUTE\\n2121 Alton Parkway, Suite 250\\nIrvine CA 92606\\n\\nJuly 24, 2002\\nFOR IMMEDIATE RELEASE\\n\\nGOVERNMENT REGULATION IS KILLING THE STOCK MARKET\\n\\n       IRVINE, CA -- The steep decline in the stock market is being fueled\\nby investors' realization that increasing government constraints on\\ncorporate America will harm business and the economy--not help them, said\\nYaron Brook, executive director of the Ayn Rand Institute.\\n\\n       \"Instead of launching a witch-hunt against CEOs and rushing to give\\nthe government wider powers over business, we should get rid of the complex\\nand contradictory regulations that encourage bad accounting and prevent\\nshareholders from acting in their own interest.\"\\n\\n       \"The common explanation that 'greed' is to blame makes no sense--the\\nabuses in companies like Enron and WorldCom were not exercises in\\nself-interest, but in self-destruction.\\n\\n       \"In an unfettered free market the desire for profit is satisfied by\\nhonest, long-range, rational behavior: by innovating, by hiring the best\\nemployees, by selling quality products and by providing accurate information\\nto the owners of the corporation--the shareholders. As for short-range\\nmanagers, the markets will not tolerate them. As for the real swindlers,\\nexisting laws against force and fraud are sufficient to protect us.\"\\n\\n       \"If our politicians are indeed concerned about the stock market,\"\\nsaid Dr. Brook, \"let them demonstrate it by eliminating, not adding,\\nregulations and making the market truly free.\"\\n\\n###   ###   ###\\n\\nAyn Rand Institute executive director Dr. Yaron Brook is available for\\ninterviews on this topic.\\n\\nContact: Larry Benson\\nE-mail: larryb@aynrand.org\\nPhone: (949) 222-6550 ext. 213\\n\\nRead Dr. Brook's full Op-Ed at:\\nhttp://www.aynrand.org/medialink/killingthestockmarket.shtml\\n\\nFor more information on ARI's unique point of view go to Medialink at the\\nInstitute's Web site at www.aynrand.org. Founded in 1985, the Ayn Rand\\nInstitute promotes the philosophy of Ayn Rand, author of Atlas Shrugged and\\nThe Fountainhead.\\n\\nIf you wish to have your email gazette@vineyard.net REMOVED from this list,\\nplease send an email to davidh@aynrand.org with the email address to be\\nremoved. Thank you.\n",
      "Name: content, dtype: object\n"
     ]
    }
   ],
   "source": [
    "for i in range(len(mis_indexes)):\n",
    "    print(train_data[train_data.index == mis_indexes[i]]['id'], train_data[train_data.index == mis_indexes[i]]['content'])"
   ]
  },
  {
   "cell_type": "markdown",
   "metadata": {},
   "source": [
    "#### Cross-validation score"
   ]
  },
  {
   "cell_type": "code",
   "execution_count": 33,
   "metadata": {},
   "outputs": [],
   "source": [
    "scoring = {'acc': 'accuracy',\n",
    "           'f1': 'f1',\n",
    "           'prec_macro': 'precision_macro',\n",
    "           'rec_micro': 'recall_macro'}\n",
    "scores = cross_validate(svc, tfidf_features, train_data['prediction'], scoring=scoring,\n",
    "                         cv=5, return_train_score=True)"
   ]
  },
  {
   "cell_type": "code",
   "execution_count": 34,
   "metadata": {},
   "outputs": [
    {
     "name": "stdout",
     "output_type": "stream",
     "text": [
      "F1-score:  0.9874884167604543\n",
      "Accuracy:  0.9828047712190848\n"
     ]
    }
   ],
   "source": [
    "print('F1-score: ', np.mean(scores['test_f1']))\n",
    "print('Accuracy: ', np.mean(scores['test_acc']))"
   ]
  },
  {
   "cell_type": "markdown",
   "metadata": {},
   "source": [
    "### Multinomial Naive Bayes (MNB)"
   ]
  },
  {
   "cell_type": "markdown",
   "metadata": {},
   "source": [
    "#### Default setting"
   ]
  },
  {
   "cell_type": "code",
   "execution_count": 35,
   "metadata": {},
   "outputs": [
    {
     "data": {
      "text/plain": [
       "MultinomialNB(alpha=0.2, class_prior=None, fit_prior=True)"
      ]
     },
     "execution_count": 35,
     "metadata": {},
     "output_type": "execute_result"
    }
   ],
   "source": [
    "mnb = MultinomialNB(alpha=0.2)\n",
    "mnb.fit(features_train, labels_train)"
   ]
  },
  {
   "cell_type": "code",
   "execution_count": 36,
   "metadata": {},
   "outputs": [
    {
     "data": {
      "text/plain": [
       "0.934"
      ]
     },
     "execution_count": 36,
     "metadata": {},
     "output_type": "execute_result"
    }
   ],
   "source": [
    "prediction = mnb.predict(features_test)\n",
    "accuracy_score(labels_test, prediction)"
   ]
  },
  {
   "cell_type": "code",
   "execution_count": 37,
   "metadata": {},
   "outputs": [
    {
     "data": {
      "text/plain": [
       "0.9549795361527967"
      ]
     },
     "execution_count": 37,
     "metadata": {},
     "output_type": "execute_result"
    }
   ],
   "source": [
    "f1_score(labels_test, prediction)"
   ]
  },
  {
   "cell_type": "markdown",
   "metadata": {},
   "source": [
    "#### Hyperparameter tuning"
   ]
  },
  {
   "cell_type": "code",
   "execution_count": 38,
   "metadata": {},
   "outputs": [],
   "source": [
    "tuned_parameters = [{'alpha': [0, 0.5, 1.0, 1.5, 2.0]}]"
   ]
  },
  {
   "cell_type": "code",
   "execution_count": 39,
   "metadata": {},
   "outputs": [],
   "source": [
    "# hyperparameter_tuning(MultinomialNB(), tuned_parameters)"
   ]
  },
  {
   "cell_type": "markdown",
   "metadata": {},
   "source": [
    "#### After hyperparameter tuning"
   ]
  },
  {
   "cell_type": "code",
   "execution_count": 40,
   "metadata": {},
   "outputs": [
    {
     "name": "stderr",
     "output_type": "stream",
     "text": [
      "/home/holy/anaconda3/envs/nlp_text/lib/python3.7/site-packages/sklearn/naive_bayes.py:472: UserWarning: alpha too small will result in numeric errors, setting alpha = 1.0e-10\n",
      "  'setting alpha = %.1e' % _ALPHA_MIN)\n"
     ]
    },
    {
     "data": {
      "text/plain": [
       "MultinomialNB(alpha=0, class_prior=None, fit_prior=True)"
      ]
     },
     "execution_count": 40,
     "metadata": {},
     "output_type": "execute_result"
    }
   ],
   "source": [
    "mnb = MultinomialNB(alpha=0)\n",
    "mnb.fit(features_train, labels_train)"
   ]
  },
  {
   "cell_type": "code",
   "execution_count": 41,
   "metadata": {},
   "outputs": [
    {
     "data": {
      "text/plain": [
       "0.946"
      ]
     },
     "execution_count": 41,
     "metadata": {},
     "output_type": "execute_result"
    }
   ],
   "source": [
    "prediction = mnb.predict(features_test)\n",
    "accuracy_score(labels_test, prediction)"
   ]
  },
  {
   "cell_type": "code",
   "execution_count": 42,
   "metadata": {},
   "outputs": [
    {
     "data": {
      "text/plain": [
       "0.9612625538020086"
      ]
     },
     "execution_count": 42,
     "metadata": {},
     "output_type": "execute_result"
    }
   ],
   "source": [
    "f1_score(labels_test, prediction)"
   ]
  },
  {
   "cell_type": "markdown",
   "metadata": {},
   "source": [
    "#### Cross-validation"
   ]
  },
  {
   "cell_type": "code",
   "execution_count": 43,
   "metadata": {},
   "outputs": [
    {
     "name": "stderr",
     "output_type": "stream",
     "text": [
      "/home/holy/anaconda3/envs/nlp_text/lib/python3.7/site-packages/sklearn/naive_bayes.py:472: UserWarning: alpha too small will result in numeric errors, setting alpha = 1.0e-10\n",
      "  'setting alpha = %.1e' % _ALPHA_MIN)\n",
      "/home/holy/anaconda3/envs/nlp_text/lib/python3.7/site-packages/sklearn/naive_bayes.py:472: UserWarning: alpha too small will result in numeric errors, setting alpha = 1.0e-10\n",
      "  'setting alpha = %.1e' % _ALPHA_MIN)\n",
      "/home/holy/anaconda3/envs/nlp_text/lib/python3.7/site-packages/sklearn/naive_bayes.py:472: UserWarning: alpha too small will result in numeric errors, setting alpha = 1.0e-10\n",
      "  'setting alpha = %.1e' % _ALPHA_MIN)\n",
      "/home/holy/anaconda3/envs/nlp_text/lib/python3.7/site-packages/sklearn/naive_bayes.py:472: UserWarning: alpha too small will result in numeric errors, setting alpha = 1.0e-10\n",
      "  'setting alpha = %.1e' % _ALPHA_MIN)\n",
      "/home/holy/anaconda3/envs/nlp_text/lib/python3.7/site-packages/sklearn/naive_bayes.py:472: UserWarning: alpha too small will result in numeric errors, setting alpha = 1.0e-10\n",
      "  'setting alpha = %.1e' % _ALPHA_MIN)\n"
     ]
    }
   ],
   "source": [
    "scoring = {'acc': 'accuracy',\n",
    "           'f1': 'f1',\n",
    "           'prec_macro': 'precision_macro',\n",
    "           'rec_micro': 'recall_macro'}\n",
    "scores = cross_validate(mnb, tfidf_features, train_data['prediction'], scoring=scoring,\n",
    "                         cv=5, return_train_score=True)"
   ]
  },
  {
   "cell_type": "code",
   "execution_count": 44,
   "metadata": {},
   "outputs": [
    {
     "name": "stdout",
     "output_type": "stream",
     "text": [
      "F1-score:  0.9657397774528963\n",
      "Accuracy:  0.9528127200508802\n"
     ]
    }
   ],
   "source": [
    "print('F1-score: ', np.mean(scores['test_f1']))\n",
    "print('Accuracy: ', np.mean(scores['test_acc']))"
   ]
  },
  {
   "cell_type": "markdown",
   "metadata": {},
   "source": [
    "### Decision Tree Learning (DTL)"
   ]
  },
  {
   "cell_type": "markdown",
   "metadata": {},
   "source": [
    "#### Default setting"
   ]
  },
  {
   "cell_type": "code",
   "execution_count": 45,
   "metadata": {},
   "outputs": [
    {
     "data": {
      "text/plain": [
       "DecisionTreeClassifier(class_weight=None, criterion='gini', max_depth=None,\n",
       "            max_features=None, max_leaf_nodes=None,\n",
       "            min_impurity_decrease=0.0, min_impurity_split=None,\n",
       "            min_samples_leaf=1, min_samples_split=2,\n",
       "            min_weight_fraction_leaf=0.0, presort=False, random_state=None,\n",
       "            splitter='best')"
      ]
     },
     "execution_count": 45,
     "metadata": {},
     "output_type": "execute_result"
    }
   ],
   "source": [
    "dtl = DecisionTreeClassifier()\n",
    "dtl.fit(features_train, labels_train)"
   ]
  },
  {
   "cell_type": "code",
   "execution_count": 46,
   "metadata": {},
   "outputs": [
    {
     "data": {
      "text/plain": [
       "0.922"
      ]
     },
     "execution_count": 46,
     "metadata": {},
     "output_type": "execute_result"
    }
   ],
   "source": [
    "prediction = dtl.predict(features_test)\n",
    "accuracy_score(labels_test, prediction)"
   ]
  },
  {
   "cell_type": "code",
   "execution_count": 47,
   "metadata": {},
   "outputs": [
    {
     "data": {
      "text/plain": [
       "0.943884892086331"
      ]
     },
     "execution_count": 47,
     "metadata": {},
     "output_type": "execute_result"
    }
   ],
   "source": [
    "f1_score(labels_test, prediction)"
   ]
  },
  {
   "cell_type": "markdown",
   "metadata": {},
   "source": [
    "#### Cross-validation"
   ]
  },
  {
   "cell_type": "code",
   "execution_count": 48,
   "metadata": {},
   "outputs": [],
   "source": [
    "scoring = {'acc': 'accuracy',\n",
    "           'f1': 'f1',\n",
    "           'prec_macro': 'precision_macro',\n",
    "           'rec_micro': 'recall_macro'}\n",
    "scores = cross_validate(dtl, tfidf_features, train_data['prediction'], scoring=scoring,\n",
    "                         cv=5, return_train_score=True)"
   ]
  },
  {
   "cell_type": "code",
   "execution_count": 49,
   "metadata": {},
   "outputs": [
    {
     "name": "stdout",
     "output_type": "stream",
     "text": [
      "F1-score:  0.9435089690771952\n",
      "Accuracy:  0.9220070800283201\n"
     ]
    }
   ],
   "source": [
    "print('F1-score: ', np.mean(scores['test_f1']))\n",
    "print('Accuracy: ', np.mean(scores['test_acc']))"
   ]
  },
  {
   "cell_type": "markdown",
   "metadata": {},
   "source": [
    "### Random Forest"
   ]
  },
  {
   "cell_type": "markdown",
   "metadata": {},
   "source": [
    "#### Default setting"
   ]
  },
  {
   "cell_type": "code",
   "execution_count": 50,
   "metadata": {},
   "outputs": [
    {
     "data": {
      "text/plain": [
       "RandomForestClassifier(bootstrap=True, class_weight=None, criterion='gini',\n",
       "            max_depth=50, max_features='auto', max_leaf_nodes=None,\n",
       "            min_impurity_decrease=0.0, min_impurity_split=None,\n",
       "            min_samples_leaf=1, min_samples_split=2,\n",
       "            min_weight_fraction_leaf=0.0, n_estimators=10, n_jobs=1,\n",
       "            oob_score=False, random_state=0, verbose=0, warm_start=False)"
      ]
     },
     "execution_count": 50,
     "metadata": {},
     "output_type": "execute_result"
    }
   ],
   "source": [
    "rf = RandomForestClassifier(max_depth=50, random_state=0)\n",
    "rf.fit(features_train, labels_train)"
   ]
  },
  {
   "cell_type": "code",
   "execution_count": 51,
   "metadata": {},
   "outputs": [
    {
     "data": {
      "text/plain": [
       "0.944"
      ]
     },
     "execution_count": 51,
     "metadata": {},
     "output_type": "execute_result"
    }
   ],
   "source": [
    "prediction = rf.predict(features_test)\n",
    "accuracy_score(labels_test, prediction)"
   ]
  },
  {
   "cell_type": "code",
   "execution_count": 52,
   "metadata": {},
   "outputs": [
    {
     "data": {
      "text/plain": [
       "0.9605633802816902"
      ]
     },
     "execution_count": 52,
     "metadata": {},
     "output_type": "execute_result"
    }
   ],
   "source": [
    "f1_score(labels_test, prediction)"
   ]
  },
  {
   "cell_type": "markdown",
   "metadata": {},
   "source": [
    "#### Cross-validation"
   ]
  },
  {
   "cell_type": "code",
   "execution_count": 53,
   "metadata": {},
   "outputs": [],
   "source": [
    "scoring = {'acc': 'accuracy',\n",
    "           'f1': 'f1',\n",
    "           'prec_macro': 'precision_macro',\n",
    "           'rec_micro': 'recall_macro'}\n",
    "scores = cross_validate(dtl, tfidf_features, train_data['prediction'], scoring=scoring,\n",
    "                         cv=5, return_train_score=True)"
   ]
  },
  {
   "cell_type": "code",
   "execution_count": 54,
   "metadata": {},
   "outputs": [
    {
     "name": "stdout",
     "output_type": "stream",
     "text": [
      "F1-score:  0.941622020811716\n",
      "Accuracy:  0.9192038672154688\n"
     ]
    }
   ],
   "source": [
    "print('F1-score: ', np.mean(scores['test_f1']))\n",
    "print('Accuracy: ', np.mean(scores['test_acc']))"
   ]
  },
  {
   "cell_type": "markdown",
   "metadata": {},
   "source": [
    "### K-Nearest Neighbors"
   ]
  },
  {
   "cell_type": "markdown",
   "metadata": {},
   "source": [
    "#### Default setting"
   ]
  },
  {
   "cell_type": "code",
   "execution_count": 55,
   "metadata": {},
   "outputs": [
    {
     "data": {
      "text/plain": [
       "KNeighborsClassifier(algorithm='auto', leaf_size=30, metric='minkowski',\n",
       "           metric_params=None, n_jobs=1, n_neighbors=3, p=2,\n",
       "           weights='uniform')"
      ]
     },
     "execution_count": 55,
     "metadata": {},
     "output_type": "execute_result"
    }
   ],
   "source": [
    "knn = KNeighborsClassifier(n_neighbors=3)\n",
    "knn.fit(features_train, labels_train)"
   ]
  },
  {
   "cell_type": "code",
   "execution_count": 56,
   "metadata": {},
   "outputs": [
    {
     "data": {
      "text/plain": [
       "0.906"
      ]
     },
     "execution_count": 56,
     "metadata": {},
     "output_type": "execute_result"
    }
   ],
   "source": [
    "prediction = knn.predict(features_test)\n",
    "accuracy_score(labels_test, prediction)"
   ]
  },
  {
   "cell_type": "code",
   "execution_count": 57,
   "metadata": {},
   "outputs": [
    {
     "data": {
      "text/plain": [
       "0.9295352323838081"
      ]
     },
     "execution_count": 57,
     "metadata": {},
     "output_type": "execute_result"
    }
   ],
   "source": [
    "f1_score(labels_test, prediction)"
   ]
  },
  {
   "cell_type": "markdown",
   "metadata": {},
   "source": [
    "#### Cross-validation "
   ]
  },
  {
   "cell_type": "code",
   "execution_count": 58,
   "metadata": {},
   "outputs": [],
   "source": [
    "scoring = {'acc': 'accuracy',\n",
    "           'f1': 'f1',\n",
    "           'prec_macro': 'precision_macro',\n",
    "           'rec_micro': 'recall_macro'}\n",
    "scores = cross_validate(knn, tfidf_features, train_data['prediction'], scoring=scoring,\n",
    "                         cv=5, return_train_score=True)  "
   ]
  },
  {
   "cell_type": "code",
   "execution_count": 59,
   "metadata": {},
   "outputs": [
    {
     "name": "stdout",
     "output_type": "stream",
     "text": [
      "F1-score:  0.9205576150705946\n",
      "Accuracy:  0.8956046464185856\n"
     ]
    }
   ],
   "source": [
    "print('F1-score: ', np.mean(scores['test_f1']))\n",
    "print('Accuracy: ', np.mean(scores['test_acc']))"
   ]
  }
 ],
 "metadata": {
  "kernelspec": {
   "display_name": "Python 3",
   "language": "python",
   "name": "python3"
  },
  "language_info": {
   "codemirror_mode": {
    "name": "ipython",
    "version": 3
   },
   "file_extension": ".py",
   "mimetype": "text/x-python",
   "name": "python",
   "nbconvert_exporter": "python",
   "pygments_lexer": "ipython3",
   "version": "3.7.0"
  }
 },
 "nbformat": 4,
 "nbformat_minor": 2
}
