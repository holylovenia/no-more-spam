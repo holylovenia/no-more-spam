{
 "cells": [
  {
   "cell_type": "markdown",
   "metadata": {},
   "source": [
    "# CSV Converter"
   ]
  },
  {
   "cell_type": "markdown",
   "metadata": {},
   "source": [
    "## Auto-import"
   ]
  },
  {
   "cell_type": "code",
   "execution_count": 189,
   "metadata": {},
   "outputs": [
    {
     "name": "stdout",
     "output_type": "stream",
     "text": [
      "The autoreload extension is already loaded. To reload it, use:\n",
      "  %reload_ext autoreload\n"
     ]
    }
   ],
   "source": [
    "%load_ext autoreload\n",
    "%autoreload 2"
   ]
  },
  {
   "cell_type": "markdown",
   "metadata": {},
   "source": [
    "## Import libraries"
   ]
  },
  {
   "cell_type": "code",
   "execution_count": 190,
   "metadata": {},
   "outputs": [],
   "source": [
    "from html_cleaner import remove_html_tags_from_file\n",
    "from os import listdir, mkdir\n",
    "from os.path import exists, isfile, join\n",
    "\n",
    "import numpy as np\n",
    "import pandas as pd"
   ]
  },
  {
   "cell_type": "markdown",
   "metadata": {},
   "source": [
    "## Functions"
   ]
  },
  {
   "cell_type": "markdown",
   "metadata": {},
   "source": [
    "### Fetch list of file names from a certain directory"
   ]
  },
  {
   "cell_type": "code",
   "execution_count": 191,
   "metadata": {},
   "outputs": [],
   "source": [
    "def get_files_from_dir_path(dir_path):\n",
    "    files = []\n",
    "    \n",
    "    for file in listdir(dir_path):\n",
    "        if file.endswith('.eml'):\n",
    "            files.append(file)\n",
    "\n",
    "    return files"
   ]
  },
  {
   "cell_type": "markdown",
   "metadata": {},
   "source": [
    "### Convert all files to text"
   ]
  },
  {
   "cell_type": "code",
   "execution_count": 163,
   "metadata": {},
   "outputs": [],
   "source": [
    "def convert_all_files_to_text(base_src_dir_path):\n",
    "\n",
    "    src_files = get_files_from_dir_path(base_src_dir_path)\n",
    "    \n",
    "    text_array = []\n",
    "    id_array = []\n",
    "\n",
    "    for i in range(0, len(src_files)):\n",
    "        current_src_file = src_files[i]\n",
    "        current_id = current_src_file.split('.')[0]\n",
    "        current_id = current_id.split('_')[-1]\n",
    "        id_array.append(current_id)\n",
    "        text_array.append(remove_html_tags_from_file('{}{}'.format(base_src_dir_path, current_src_file)))\n",
    "        \n",
    "    return ((text_array, id_array))"
   ]
  },
  {
   "cell_type": "markdown",
   "metadata": {},
   "source": [
    "### Create train dataset from text"
   ]
  },
  {
   "cell_type": "code",
   "execution_count": 195,
   "metadata": {},
   "outputs": [],
   "source": [
    "def create_train_data_dataframe(train_id_array, train_text_array):\n",
    "    train_label_array = pd.read_csv('dataset/spam-mail.tr.label')\n",
    "    \n",
    "    prediction_array = []\n",
    "    \n",
    "    for i in range(len(train_id_array)):\n",
    "        current_train_data = []\n",
    "        \n",
    "        prediction_array.append(train_label_array[train_label_array['Id'] == int(train_id_array[i])]['Prediction'].values[0])\n",
    "        \n",
    "    dataset = pd.DataFrame({'id': train_id_array, 'prediction': prediction_array, 'content': train_text_array})\n",
    "    \n",
    "    return dataset"
   ]
  },
  {
   "cell_type": "markdown",
   "metadata": {},
   "source": [
    "### Create test dataset from text"
   ]
  },
  {
   "cell_type": "code",
   "execution_count": 196,
   "metadata": {},
   "outputs": [],
   "source": [
    "def create_test_data_dataframe(test_id_array, test_text_array):\n",
    "    \n",
    "    dataset = pd.DataFrame({'id': test_id_array, 'content': test_text_array})\n",
    "    \n",
    "    return dataset"
   ]
  },
  {
   "cell_type": "markdown",
   "metadata": {},
   "source": [
    "## Main program"
   ]
  },
  {
   "cell_type": "markdown",
   "metadata": {},
   "source": [
    "### Train data"
   ]
  },
  {
   "cell_type": "markdown",
   "metadata": {},
   "source": [
    "#### Getting train data from raw files"
   ]
  },
  {
   "cell_type": "code",
   "execution_count": 193,
   "metadata": {},
   "outputs": [],
   "source": [
    "(train_text_array, train_id_array) = convert_all_files_to_text('dataset/extracted/TR/')"
   ]
  },
  {
   "cell_type": "markdown",
   "metadata": {},
   "source": [
    "#### Creating dataset from raw train data"
   ]
  },
  {
   "cell_type": "code",
   "execution_count": 194,
   "metadata": {},
   "outputs": [],
   "source": [
    "dataset = create_train_data_dataframe(train_id_array, train_text_array)\n",
    "\n",
    "dataset.to_csv('dataset/train_data.csv', encoding='utf-8', index=False)"
   ]
  },
  {
   "cell_type": "markdown",
   "metadata": {},
   "source": [
    "### Test data"
   ]
  },
  {
   "cell_type": "markdown",
   "metadata": {},
   "source": [
    "#### Getting test data from raw files"
   ]
  },
  {
   "cell_type": "code",
   "execution_count": 197,
   "metadata": {},
   "outputs": [],
   "source": [
    "(test_text_array, test_id_array) = convert_all_files_to_text('dataset/extracted/TT/')"
   ]
  },
  {
   "cell_type": "markdown",
   "metadata": {},
   "source": [
    "#### Creating dataset from raw test data"
   ]
  },
  {
   "cell_type": "code",
   "execution_count": 198,
   "metadata": {},
   "outputs": [],
   "source": [
    "dataset = create_test_data_dataframe(test_id_array, test_text_array)\n",
    "\n",
    "dataset.to_csv('dataset/test_data.csv', encoding='utf-8', index=False)"
   ]
  }
 ],
 "metadata": {
  "kernelspec": {
   "display_name": "Python 3",
   "language": "python",
   "name": "python3"
  },
  "language_info": {
   "codemirror_mode": {
    "name": "ipython",
    "version": 3
   },
   "file_extension": ".py",
   "mimetype": "text/x-python",
   "name": "python",
   "nbconvert_exporter": "python",
   "pygments_lexer": "ipython3",
   "version": "3.7.0"
  }
 },
 "nbformat": 4,
 "nbformat_minor": 2
}
